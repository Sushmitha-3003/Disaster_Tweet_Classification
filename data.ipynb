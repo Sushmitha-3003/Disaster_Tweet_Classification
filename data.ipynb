{
 "cells": [
  {
   "cell_type": "code",
   "execution_count": 2,
   "id": "09ec3c7c",
   "metadata": {},
   "outputs": [],
   "source": [
    "import pandas as pd"
   ]
  },
  {
   "cell_type": "code",
   "execution_count": 3,
   "id": "9ea06caf",
   "metadata": {},
   "outputs": [],
   "source": [
    "data = pd.read_csv(r\"D:\\Disaster Tweet Classification2\\final_dataset_mini_balanced.csv\")"
   ]
  },
  {
   "cell_type": "code",
   "execution_count": 4,
   "id": "f8c77110",
   "metadata": {},
   "outputs": [
    {
     "data": {
      "text/html": [
       "<div>\n",
       "<style scoped>\n",
       "    .dataframe tbody tr th:only-of-type {\n",
       "        vertical-align: middle;\n",
       "    }\n",
       "\n",
       "    .dataframe tbody tr th {\n",
       "        vertical-align: top;\n",
       "    }\n",
       "\n",
       "    .dataframe thead th {\n",
       "        text-align: right;\n",
       "    }\n",
       "</style>\n",
       "<table border=\"1\" class=\"dataframe\">\n",
       "  <thead>\n",
       "    <tr style=\"text-align: right;\">\n",
       "      <th></th>\n",
       "      <th>text</th>\n",
       "      <th>label</th>\n",
       "    </tr>\n",
       "  </thead>\n",
       "  <tbody>\n",
       "    <tr>\n",
       "      <th>0</th>\n",
       "      <td>Massive earthquake in Osaka. Power outages rep...</td>\n",
       "      <td>Earthquake</td>\n",
       "    </tr>\n",
       "    <tr>\n",
       "      <th>1</th>\n",
       "      <td>7.0 magnitude earthquake in Miami has triggere...</td>\n",
       "      <td>Earthquake</td>\n",
       "    </tr>\n",
       "    <tr>\n",
       "      <th>2</th>\n",
       "      <td>\"The Cape Town drought in South Africa has cau...</td>\n",
       "      <td>Drought</td>\n",
       "    </tr>\n",
       "    <tr>\n",
       "      <th>3</th>\n",
       "      <td>Aftershocks continue in Indonesia following ye...</td>\n",
       "      <td>Earthquake</td>\n",
       "    </tr>\n",
       "    <tr>\n",
       "      <th>4</th>\n",
       "      <td>The ground is shaking #emergency #earthquake #...</td>\n",
       "      <td>Earthquake</td>\n",
       "    </tr>\n",
       "  </tbody>\n",
       "</table>\n",
       "</div>"
      ],
      "text/plain": [
       "                                                text       label\n",
       "0  Massive earthquake in Osaka. Power outages rep...  Earthquake\n",
       "1  7.0 magnitude earthquake in Miami has triggere...  Earthquake\n",
       "2  \"The Cape Town drought in South Africa has cau...     Drought\n",
       "3  Aftershocks continue in Indonesia following ye...  Earthquake\n",
       "4  The ground is shaking #emergency #earthquake #...  Earthquake"
      ]
     },
     "execution_count": 4,
     "metadata": {},
     "output_type": "execute_result"
    }
   ],
   "source": [
    "data.head()"
   ]
  },
  {
   "cell_type": "code",
   "execution_count": 5,
   "id": "bfceac4a",
   "metadata": {},
   "outputs": [
    {
     "data": {
      "text/plain": [
       "text     0\n",
       "label    0\n",
       "dtype: int64"
      ]
     },
     "execution_count": 5,
     "metadata": {},
     "output_type": "execute_result"
    }
   ],
   "source": [
    "data.isnull().sum()"
   ]
  },
  {
   "cell_type": "code",
   "execution_count": 6,
   "id": "57a8499d",
   "metadata": {},
   "outputs": [
    {
     "data": {
      "text/plain": [
       "(95271, 2)"
      ]
     },
     "execution_count": 6,
     "metadata": {},
     "output_type": "execute_result"
    }
   ],
   "source": [
    "data.shape"
   ]
  },
  {
   "cell_type": "code",
   "execution_count": 7,
   "id": "37ae753c",
   "metadata": {},
   "outputs": [
    {
     "data": {
      "text/plain": [
       "label\n",
       "Earthquake             8661\n",
       "Drought                8661\n",
       "Volcanic Eruption      8661\n",
       "Wildfire               8661\n",
       "Non-Disaster           8661\n",
       "Tsunami                8661\n",
       "Hurricane              8661\n",
       "Cyclone                8661\n",
       "Industrial Accident    8661\n",
       "Typhoon                8661\n",
       "Flood                  8661\n",
       "Name: count, dtype: int64"
      ]
     },
     "execution_count": 7,
     "metadata": {},
     "output_type": "execute_result"
    }
   ],
   "source": [
    "data['label'].value_counts()"
   ]
  },
  {
   "cell_type": "code",
   "execution_count": 8,
   "id": "2fc2137d",
   "metadata": {},
   "outputs": [],
   "source": [
    "import re\n",
    "import nltk\n",
    "from nltk.corpus import stopwords\n",
    "from nltk.stem import WordNetLemmatizer\n",
    "\n",
    "# nltk.download('stopwords')\n",
    "# nltk.download('wordnet')\n",
    "\n",
    "stop_words = set(stopwords.words('english'))\n",
    "lemmatizer = WordNetLemmatizer()\n",
    "\n",
    "def preprocess_text(text):\n",
    "    text = text.lower()\n",
    "    text = re.sub(r\"http\\S+|www\\S+|https\\S+\", '', text)\n",
    "    text = re.sub(r'[^A-Za-z\\s]', '', text)\n",
    "    tokens = text.split()\n",
    "    tokens = [lemmatizer.lemmatize(w) for w in tokens if w not in stop_words]\n",
    "    return ' '.join(tokens)\n",
    "\n",
    "data['processed_text'] = data['text'].apply(preprocess_text)\n"
   ]
  },
  {
   "cell_type": "code",
   "execution_count": 9,
   "id": "5ca6ce66",
   "metadata": {},
   "outputs": [],
   "source": [
    "from sklearn.model_selection import train_test_split\n",
    "from sklearn.preprocessing import LabelEncoder\n",
    "\n",
    "le = LabelEncoder()\n",
    "data['labels'] = le.fit_transform(data['label'])\n",
    "\n",
    "X_train, X_val, y_train, y_val = train_test_split(\n",
    "    data['processed_text'], data['label'], test_size=0.2, random_state=42\n",
    ")\n"
   ]
  },
  {
   "cell_type": "code",
   "execution_count": 10,
   "id": "87c6a61d",
   "metadata": {},
   "outputs": [
    {
     "data": {
      "text/html": [
       "<div>\n",
       "<style scoped>\n",
       "    .dataframe tbody tr th:only-of-type {\n",
       "        vertical-align: middle;\n",
       "    }\n",
       "\n",
       "    .dataframe tbody tr th {\n",
       "        vertical-align: top;\n",
       "    }\n",
       "\n",
       "    .dataframe thead th {\n",
       "        text-align: right;\n",
       "    }\n",
       "</style>\n",
       "<table border=\"1\" class=\"dataframe\">\n",
       "  <thead>\n",
       "    <tr style=\"text-align: right;\">\n",
       "      <th></th>\n",
       "      <th>text</th>\n",
       "      <th>label</th>\n",
       "      <th>processed_text</th>\n",
       "      <th>labels</th>\n",
       "    </tr>\n",
       "  </thead>\n",
       "  <tbody>\n",
       "    <tr>\n",
       "      <th>0</th>\n",
       "      <td>Massive earthquake in Osaka. Power outages rep...</td>\n",
       "      <td>Earthquake</td>\n",
       "      <td>massive earthquake osaka power outage reported...</td>\n",
       "      <td>2</td>\n",
       "    </tr>\n",
       "    <tr>\n",
       "      <th>1</th>\n",
       "      <td>7.0 magnitude earthquake in Miami has triggere...</td>\n",
       "      <td>Earthquake</td>\n",
       "      <td>magnitude earthquake miami triggered tsunami w...</td>\n",
       "      <td>2</td>\n",
       "    </tr>\n",
       "    <tr>\n",
       "      <th>2</th>\n",
       "      <td>\"The Cape Town drought in South Africa has cau...</td>\n",
       "      <td>Drought</td>\n",
       "      <td>cape town drought south africa caused water sc...</td>\n",
       "      <td>1</td>\n",
       "    </tr>\n",
       "    <tr>\n",
       "      <th>3</th>\n",
       "      <td>Aftershocks continue in Indonesia following ye...</td>\n",
       "      <td>Earthquake</td>\n",
       "      <td>aftershock continue indonesia following yester...</td>\n",
       "      <td>2</td>\n",
       "    </tr>\n",
       "    <tr>\n",
       "      <th>4</th>\n",
       "      <td>The ground is shaking #emergency #earthquake #...</td>\n",
       "      <td>Earthquake</td>\n",
       "      <td>ground shaking emergency earthquake tokyo</td>\n",
       "      <td>2</td>\n",
       "    </tr>\n",
       "  </tbody>\n",
       "</table>\n",
       "</div>"
      ],
      "text/plain": [
       "                                                text       label  \\\n",
       "0  Massive earthquake in Osaka. Power outages rep...  Earthquake   \n",
       "1  7.0 magnitude earthquake in Miami has triggere...  Earthquake   \n",
       "2  \"The Cape Town drought in South Africa has cau...     Drought   \n",
       "3  Aftershocks continue in Indonesia following ye...  Earthquake   \n",
       "4  The ground is shaking #emergency #earthquake #...  Earthquake   \n",
       "\n",
       "                                      processed_text  labels  \n",
       "0  massive earthquake osaka power outage reported...       2  \n",
       "1  magnitude earthquake miami triggered tsunami w...       2  \n",
       "2  cape town drought south africa caused water sc...       1  \n",
       "3  aftershock continue indonesia following yester...       2  \n",
       "4          ground shaking emergency earthquake tokyo       2  "
      ]
     },
     "execution_count": 10,
     "metadata": {},
     "output_type": "execute_result"
    }
   ],
   "source": [
    "data.head()"
   ]
  },
  {
   "cell_type": "code",
   "execution_count": 11,
   "id": "cb711482",
   "metadata": {},
   "outputs": [
    {
     "name": "stdout",
     "output_type": "stream",
     "text": [
      "Accuracy: 0.9869325636315928\n",
      "                     precision    recall  f1-score   support\n",
      "\n",
      "            Cyclone       1.00      0.99      0.99      1657\n",
      "            Drought       0.99      0.99      0.99      1696\n",
      "         Earthquake       0.99      0.96      0.98      1723\n",
      "              Flood       0.98      0.98      0.98      1685\n",
      "          Hurricane       1.00      0.99      0.99      1815\n",
      "Industrial Accident       1.00      0.99      1.00      1773\n",
      "       Non-Disaster       0.98      1.00      0.99      1745\n",
      "            Tsunami       0.95      0.99      0.97      1749\n",
      "            Typhoon       1.00      1.00      1.00      1752\n",
      "  Volcanic Eruption       1.00      0.99      0.99      1738\n",
      "           Wildfire       0.97      0.99      0.98      1722\n",
      "\n",
      "           accuracy                           0.99     19055\n",
      "          macro avg       0.99      0.99      0.99     19055\n",
      "       weighted avg       0.99      0.99      0.99     19055\n",
      "\n"
     ]
    }
   ],
   "source": [
    "from sklearn.feature_extraction.text import TfidfVectorizer\n",
    "from sklearn.naive_bayes import MultinomialNB\n",
    "from sklearn.pipeline import Pipeline\n",
    "from sklearn.metrics import classification_report, accuracy_score\n",
    "\n",
    "model = Pipeline([\n",
    "    ('tfidf', TfidfVectorizer(max_features=5000)),\n",
    "    ('clf', MultinomialNB())\n",
    "])\n",
    "\n",
    "model.fit(X_train, y_train)\n",
    "preds = model.predict(X_val)\n",
    "\n",
    "print(\"Accuracy:\", accuracy_score(y_val, preds))\n",
    "print(classification_report(y_val, preds, target_names=le.classes_))\n"
   ]
  },
  {
   "cell_type": "code",
   "execution_count": 13,
   "id": "abfb8cea",
   "metadata": {},
   "outputs": [
    {
     "data": {
      "text/plain": [
       "['label_encoder.pkl']"
      ]
     },
     "execution_count": 13,
     "metadata": {},
     "output_type": "execute_result"
    }
   ],
   "source": [
    "import joblib\n",
    "\n",
    "joblib.dump(model, 'disaster_multiclass_model.pkl')\n",
    "joblib.dump(le, 'label_encoder.pkl')\n",
    "\n",
    "\n"
   ]
  },
  {
   "cell_type": "code",
   "execution_count": null,
   "id": "f0cbd786",
   "metadata": {},
   "outputs": [],
   "source": []
  }
 ],
 "metadata": {
  "kernelspec": {
   "display_name": "base",
   "language": "python",
   "name": "python3"
  },
  "language_info": {
   "codemirror_mode": {
    "name": "ipython",
    "version": 3
   },
   "file_extension": ".py",
   "mimetype": "text/x-python",
   "name": "python",
   "nbconvert_exporter": "python",
   "pygments_lexer": "ipython3",
   "version": "3.12.7"
  }
 },
 "nbformat": 4,
 "nbformat_minor": 5
}
